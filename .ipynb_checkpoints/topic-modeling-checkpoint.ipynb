{
 "cells": [
  {
   "cell_type": "markdown",
   "metadata": {},
   "source": [
    "# Introduction: Topic Modeling for Amazon Reviews"
   ]
  },
  {
   "cell_type": "markdown",
   "metadata": {},
   "source": [
    "In a recent project, I tried to predict whether readers found reviews of Amazon food products \"helpful\" or not. I've tried treating this as both a classification and a regression problem, but either way, \"helpfulness\" is pretty hard to predict. \n",
    "\n",
    "Topic modeling gives me another way to approach this problem. The dataset contains no feature recording the type of product being reviewed (tea, coffee, chips, etc.), and it's possible that this could have some impact on prediction. For instance, perhaps some category of product inspires reviewers to write more helpfully and readers to respond more positively than for other categories, while the actual texts of the reviews are not that different.\n",
    "\n",
    "In this project, I explore some topic modeling techniques to see if I could predict product categories from review texts. Later, I could take the results of this unsupervised learning and feed them to a supervised learning algorithm to try to improve my ability to predict \"helpfulness.\" But for now, let's just explore!"
   ]
  },
  {
   "cell_type": "code",
   "execution_count": 1,
   "metadata": {
    "ExecuteTime": {
     "end_time": "2020-02-13T23:02:48.202256Z",
     "start_time": "2020-02-13T23:02:45.592061Z"
    }
   },
   "outputs": [],
   "source": [
    "# Import some basic packages\n",
    "import pandas as pd\n",
    "import numpy as np\n",
    "import matplotlib.pyplot as plt\n",
    "%matplotlib inline"
   ]
  },
  {
   "cell_type": "markdown",
   "metadata": {},
   "source": [
    "First, let's load the data. The [original dataset comes from Kaggle](https://www.kaggle.com/snap/amazon-fine-food-reviews) and was originally collected by the Stanford Network Analysis Project. I have removed duplicate reviews and removed all extraneous features, leaving just the review texts and the target, which I won't be using here."
   ]
  },
  {
   "cell_type": "code",
   "execution_count": 2,
   "metadata": {
    "ExecuteTime": {
     "end_time": "2020-02-13T23:03:19.760553Z",
     "start_time": "2020-02-13T23:03:17.708864Z"
    }
   },
   "outputs": [
    {
     "data": {
      "text/html": [
       "<div>\n",
       "<style scoped>\n",
       "    .dataframe tbody tr th:only-of-type {\n",
       "        vertical-align: middle;\n",
       "    }\n",
       "\n",
       "    .dataframe tbody tr th {\n",
       "        vertical-align: top;\n",
       "    }\n",
       "\n",
       "    .dataframe thead th {\n",
       "        text-align: right;\n",
       "    }\n",
       "</style>\n",
       "<table border=\"1\" class=\"dataframe\">\n",
       "  <thead>\n",
       "    <tr style=\"text-align: right;\">\n",
       "      <th></th>\n",
       "      <th>Unnamed: 0</th>\n",
       "      <th>helpful</th>\n",
       "      <th>text</th>\n",
       "    </tr>\n",
       "  </thead>\n",
       "  <tbody>\n",
       "    <tr>\n",
       "      <td>0</td>\n",
       "      <td>0</td>\n",
       "      <td>1</td>\n",
       "      <td>I have bought several of the Vitality canned d...</td>\n",
       "    </tr>\n",
       "    <tr>\n",
       "      <td>1</td>\n",
       "      <td>1</td>\n",
       "      <td>0</td>\n",
       "      <td>Product arrived labeled as Jumbo Salted Peanut...</td>\n",
       "    </tr>\n",
       "    <tr>\n",
       "      <td>2</td>\n",
       "      <td>2</td>\n",
       "      <td>1</td>\n",
       "      <td>This is a confection that has been around a fe...</td>\n",
       "    </tr>\n",
       "    <tr>\n",
       "      <td>3</td>\n",
       "      <td>3</td>\n",
       "      <td>3</td>\n",
       "      <td>If you are looking for the secret ingredient i...</td>\n",
       "    </tr>\n",
       "    <tr>\n",
       "      <td>4</td>\n",
       "      <td>4</td>\n",
       "      <td>0</td>\n",
       "      <td>Great taffy at a great price.  There was a wid...</td>\n",
       "    </tr>\n",
       "  </tbody>\n",
       "</table>\n",
       "</div>"
      ],
      "text/plain": [
       "   Unnamed: 0  helpful                                               text\n",
       "0           0        1  I have bought several of the Vitality canned d...\n",
       "1           1        0  Product arrived labeled as Jumbo Salted Peanut...\n",
       "2           2        1  This is a confection that has been around a fe...\n",
       "3           3        3  If you are looking for the secret ingredient i...\n",
       "4           4        0  Great taffy at a great price.  There was a wid..."
      ]
     },
     "execution_count": 2,
     "metadata": {},
     "output_type": "execute_result"
    }
   ],
   "source": [
    "# Import the raw dataset\n",
    "df = pd.read_csv('data_clean.csv')\n",
    "df.head()"
   ]
  },
  {
   "cell_type": "markdown",
   "metadata": {},
   "source": [
    "Let's grab just the `text` column and establish the list of stopwords and punctuation to remove once we start processing this text."
   ]
  },
  {
   "cell_type": "code",
   "execution_count": 3,
   "metadata": {
    "ExecuteTime": {
     "end_time": "2020-02-13T23:03:22.528131Z",
     "start_time": "2020-02-13T23:03:22.521569Z"
    }
   },
   "outputs": [],
   "source": [
    "# Get just the texts for modeling\n",
    "data = df['text']"
   ]
  },
  {
   "cell_type": "code",
   "execution_count": 36,
   "metadata": {
    "ExecuteTime": {
     "end_time": "2020-02-13T23:32:19.197471Z",
     "start_time": "2020-02-13T23:32:19.188154Z"
    },
    "scrolled": true
   },
   "outputs": [
    {
     "name": "stderr",
     "output_type": "stream",
     "text": [
      "[nltk_data] Downloading package stopwords to\n",
      "[nltk_data]     /Users/jennykreiger/nltk_data...\n",
      "[nltk_data]   Package stopwords is already up-to-date!\n"
     ]
    }
   ],
   "source": [
    "# Set up stopwords to be removed\n",
    "import nltk\n",
    "nltk.download('stopwords')\n",
    "from nltk.corpus import stopwords\n",
    "import string\n",
    "\n",
    "stop_list = stopwords.words('english')\n",
    "stop_list += list(string.punctuation)\n",
    "stop_list += ['br', '.<', '..', '...', '``', \"''\", '--', 'http', 'https',\n",
    "              'www', 'com']"
   ]
  },
  {
   "cell_type": "markdown",
   "metadata": {},
   "source": [
    "# Topic modeling with NMF"
   ]
  },
  {
   "cell_type": "markdown",
   "metadata": {},
   "source": [
    "My function below was adapted from a demonstration by Olivier Grisel, Lars Buitinck, and Chyi-Kwei Yau (license: BSD 3 clause) available at [https://scikit-learn.org/stable/auto_examples/applications/plot_topics_extraction_with_nmf_lda.html](https://scikit-learn.org/stable/auto_examples/applications/plot_topics_extraction_with_nmf_lda.html). Their demo produces topics using three different models: NMF with Frobenius norm (default), NMF with generalized Kullback-Leibler divergence, and LDA, all taking a matrix of TF-IDF values as input. \n",
    "\n",
    "Playing around with their code, I determined that the first NMF model produced the most reasonable, internally coherent topics based on the top words. NMF stands for \"non-negative matrix factorization,\" and it's basically a way to take the matrix of TF-IDF values representing your corpus and decompose it into two matrices that, when multiplied together (dot product), would return your original matrix. This technique is useful for topic modeling, as we see here, but also for reducing the dimensionality of a dataset. See the [documentation on sklearn.decomposition.NMF](https://scikit-learn.org/stable/modules/generated/sklearn.decomposition.NMF.html#sklearn.decomposition.NMF) to learn more about how this object works."
   ]
  },
  {
   "cell_type": "code",
   "execution_count": 5,
   "metadata": {
    "ExecuteTime": {
     "end_time": "2020-02-13T23:03:30.595854Z",
     "start_time": "2020-02-13T23:03:30.584322Z"
    }
   },
   "outputs": [],
   "source": [
    "# Create a function to model topics using NMF\n",
    "def nmf_it(data, n_samples, n_features, n_components, n_top_words):\n",
    "    '''Fits an NMF model and prints top words for each topic.\n",
    "    \n",
    "    Dependencies: sklearn.feature_extraction.text.TfidfVectorizer,\n",
    "        sklearn.decomposition.NMF\n",
    "    \n",
    "    Parameters:\n",
    "        data: DataFrame/Series containing only raw texts\n",
    "        n_samples: number of texts to sample from data\n",
    "        n_features: length of TF-IDF vectors to calculate\n",
    "        n_components: number of topics to model\n",
    "        n_top_words: number of words to print for each topic, ranked by\n",
    "            frequency\n",
    "    '''\n",
    "        \n",
    "    # Import TfidfVectorizer and NMF\n",
    "    from sklearn.feature_extraction.text import TfidfVectorizer\n",
    "    from sklearn.decomposition import NMF\n",
    "    \n",
    "    # Get sample of data\n",
    "    data_samples = data.sample(n_samples, random_state=1)\n",
    "    \n",
    "    # Instantiate and fit TfidfVectorizer\n",
    "    tfidf_vectorizer = TfidfVectorizer(max_df=0.95, min_df=2,\n",
    "                                       max_features=n_features,\n",
    "                                       stop_words=stop_list)\n",
    "\n",
    "    tfidf = tfidf_vectorizer.fit_transform(data_samples)\n",
    "    \n",
    "    # Fit the NMF model\n",
    "    nmf = NMF(n_components=n_components, random_state=1, alpha=.1, \n",
    "              l1_ratio=.5).fit(tfidf)\n",
    "\n",
    "    # View top words for each topic\n",
    "    print(\"\\nTopics in NMF model (Frobenius norm):\")\n",
    "    tfidf_feature_names = tfidf_vectorizer.get_feature_names()\n",
    "    for topic_idx, topic in enumerate(nmf.components_):\n",
    "        message = \"Topic #%d: \" % topic_idx\n",
    "        message += \" \".join([tfidf_feature_names[i] for i in topic.argsort()[:-n_top_words - 1:-1]])\n",
    "        print(message)\n",
    "    \n",
    "    return tfidf, nmf"
   ]
  },
  {
   "cell_type": "markdown",
   "metadata": {},
   "source": [
    "The function above takes in text data, selects a sample from it, calculates a matrix of TF-IDF values, and then fits an NMF model to those values. It returns both the TF-IDF matrix and the NMF model, and it prints the top `n` words for each topic.\n",
    "\n",
    "Let's take a look at what 20 topics would look like for this dataset. Note that I'm modeling the topics based on a smallish sample of 30000 reviews (roughly 10% of the dataset), but using relatively large TF-IDF vectors of length 1000."
   ]
  },
  {
   "cell_type": "code",
   "execution_count": 6,
   "metadata": {
    "ExecuteTime": {
     "end_time": "2020-02-13T23:03:44.995014Z",
     "start_time": "2020-02-13T23:03:33.272446Z"
    }
   },
   "outputs": [
    {
     "name": "stdout",
     "output_type": "stream",
     "text": [
      "\n",
      "Topics in NMF model (Frobenius norm):\n",
      "Topic #0: like taste really tastes better much sweet bad think tasted\n",
      "Topic #1: tea green teas bags black iced cup drink chai loose\n",
      "Topic #2: coffee cup strong cups roast bold starbucks keurig bitter dark\n",
      "Topic #3: food dog dogs treats cat loves cats eat treat dry\n",
      "Topic #4: amazon find price store stores local grocery buy found shipping\n",
      "Topic #5: great price easy tastes taste value tasting make deal loves\n",
      "Topic #6: chocolate dark milk cookies bar cocoa hot cookie rich bars\n",
      "Topic #7: good really price quality pretty stuff tastes better deal taste\n",
      "Topic #8: product excellent gp href arrived quality products purchase received service\n",
      "Topic #9: free gluten mix bread cookies pasta wheat flour cake made\n",
      "Topic #10: sugar syrup sweet free added brown milk corn stevia low\n",
      "Topic #11: love dogs kids stuff absolutely perfect cats wish order husband\n",
      "Topic #12: sauce hot chicken pasta add heat cheese spicy sauces rice\n",
      "Topic #13: flavor nice flavors favorite vanilla strong sweet salt rich gum\n",
      "Topic #14: water drink juice coconut milk add energy drinking bottle mix\n",
      "Topic #15: best ever tried far tasted tasting one brands many market\n",
      "Topic #16: one time get box first little bag well two even\n",
      "Topic #17: oil use coconut hair olive salt popcorn cooking used using\n",
      "Topic #18: would buy recommend highly thought anyone definitely purchase could think\n",
      "Topic #19: snack butter bars peanut bar cereal healthy eat calories fat\n"
     ]
    }
   ],
   "source": [
    "# View top words for 20 topics\n",
    "tfidf, nmf = nmf_it(data, 30000, 1000, 20, 10)"
   ]
  },
  {
   "cell_type": "markdown",
   "metadata": {
    "ExecuteTime": {
     "end_time": "2020-01-27T20:43:33.214916Z",
     "start_time": "2020-01-27T20:43:33.206836Z"
    }
   },
   "source": [
    "Looking at the top words and comparing them to the selection of reviews I have read, I can see a good representation of this corpus' major themes of coffee, tea, pet foods, chips, packaging, flavor preferences, and Amazon v. local stores.\n",
    "\n",
    "But how do I know that 20 is the right or best number of topics to model? Luckily, there are ways to approach this problem. The Yellowbrick package offers a convenient way to run a K-means clustering algorithm on our matrix of TF-IDF values to find the optimal number of clusters to look for in this text data.\n",
    "\n",
    "Let's take a look at that:"
   ]
  },
  {
   "cell_type": "code",
   "execution_count": 7,
   "metadata": {
    "ExecuteTime": {
     "end_time": "2020-02-13T23:03:58.537157Z",
     "start_time": "2020-02-13T23:03:58.071972Z"
    }
   },
   "outputs": [],
   "source": [
    "# Import needed objects\n",
    "from sklearn.cluster import KMeans\n",
    "from yellowbrick.cluster import KElbowVisualizer\n",
    "from sklearn.feature_extraction.text import TfidfVectorizer\n",
    "from sklearn.decomposition import NMF"
   ]
  },
  {
   "cell_type": "code",
   "execution_count": 8,
   "metadata": {
    "ExecuteTime": {
     "end_time": "2020-02-13T23:03:59.286264Z",
     "start_time": "2020-02-13T23:03:59.255798Z"
    }
   },
   "outputs": [],
   "source": [
    "# Get a sample of texts\n",
    "data_samples = data.sample(3000, random_state=1)"
   ]
  },
  {
   "cell_type": "markdown",
   "metadata": {},
   "source": [
    "Note that I'm using a smaller sample this time; the visualizer below was taking a long time to run."
   ]
  },
  {
   "cell_type": "code",
   "execution_count": 9,
   "metadata": {
    "ExecuteTime": {
     "end_time": "2020-02-13T23:04:03.727668Z",
     "start_time": "2020-02-13T23:04:03.498393Z"
    }
   },
   "outputs": [],
   "source": [
    "#Vectorize the text sample\n",
    "tfidf_vectorizer = TfidfVectorizer(max_df=0.95, min_df=2, max_features=1000,\n",
    "                                   stop_words=stop_list)\n",
    "\n",
    "tfidf = tfidf_vectorizer.fit_transform(data_samples)"
   ]
  },
  {
   "cell_type": "code",
   "execution_count": 21,
   "metadata": {
    "ExecuteTime": {
     "end_time": "2020-02-13T23:21:07.372162Z",
     "start_time": "2020-02-13T23:16:51.123604Z"
    },
    "scrolled": false
   },
   "outputs": [
    {
     "data": {
      "image/png": "[encoded data removed]",
      "text/plain": [
       "<Figure size 576x396 with 2 Axes>"
      ]
     },
     "metadata": {},
     "output_type": "display_data"
    },
    {
     "data": {
      "text/plain": [
       "<matplotlib.axes._subplots.AxesSubplot at 0x145f56a20>"
      ]
     },
     "execution_count": 21,
     "metadata": {},
     "output_type": "execute_result"
    }
   ],
   "source": [
    "# Instantiate the KMeans model and visualizer\n",
    "kmeans = KMeans(random_state=1)\n",
    "visualizer = KElbowVisualizer(kmeans, k=(15, 25))\n",
    "\n",
    "# Fit the visualizer and plot the results\n",
    "visualizer.fit(tfidf)       \n",
    "visualizer.show()        "
   ]
  },
  {
   "cell_type": "markdown",
   "metadata": {},
   "source": [
    "The `KElbowVisualizer` identified 20 as the best number of clusters in this range."
   ]
  },
  {
   "cell_type": "markdown",
   "metadata": {},
   "source": [
    "# Topic modeling with k-means"
   ]
  },
  {
   "cell_type": "markdown",
   "metadata": {},
   "source": [
    "Above I used `KMeans()` to select the best number of topics to model using NMF. But I could also use `KMeans()` for topic modeling! In this section, I'll use `KMeans()` to cluster the reviews. I'll then use Word2Vec embeddings to look up the top words for each cluster. This will work better if I count-vectorize the reviews, rather than calculating TF-IDF vectors, so I'll do that first."
   ]
  },
  {
   "cell_type": "code",
   "execution_count": 48,
   "metadata": {
    "ExecuteTime": {
     "end_time": "2020-02-14T00:01:50.252843Z",
     "start_time": "2020-02-14T00:01:49.948827Z"
    }
   },
   "outputs": [],
   "source": [
    "# Vectorize a sample of reviews\n",
    "from sklearn.feature_extraction.text import CountVectorizer\n",
    "count_vectorizer = CountVectorizer(max_df=0.95, min_df=2, max_features=1000,\n",
    "                                   stop_words=stop_list)\n",
    "\n",
    "count_vectors = count_vectorizer.fit_transform(data_samples)"
   ]
  },
  {
   "cell_type": "markdown",
   "metadata": {},
   "source": [
    "Next, I want to be sure that I'm selecting the best number of clusters, so I'll use an elbow plot to determine that:"
   ]
  },
  {
   "cell_type": "code",
   "execution_count": 49,
   "metadata": {
    "ExecuteTime": {
     "end_time": "2020-02-14T00:05:33.261421Z",
     "start_time": "2020-02-14T00:02:24.084377Z"
    }
   },
   "outputs": [
    {
     "data": {
      "image/png": "[encoded data removed]",
      "text/plain": [
       "<Figure size 576x396 with 2 Axes>"
      ]
     },
     "metadata": {},
     "output_type": "display_data"
    },
    {
     "data": {
      "text/plain": [
       "<matplotlib.axes._subplots.AxesSubplot at 0x1c2eb5ba8>"
      ]
     },
     "execution_count": 49,
     "metadata": {},
     "output_type": "execute_result"
    }
   ],
   "source": [
    "# Instantiate the KMeans model and visualizer\n",
    "kmeans = KMeans(random_state=1)\n",
    "visualizer = KElbowVisualizer(kmeans, k=(15, 25))\n",
    "\n",
    "# Fit the visualizer and plot the results\n",
    "visualizer.fit(count_vectors)       \n",
    "visualizer.show()    "
   ]
  },
  {
   "cell_type": "code",
   "execution_count": 50,
   "metadata": {
    "ExecuteTime": {
     "end_time": "2020-02-14T00:06:03.132965Z",
     "start_time": "2020-02-14T00:05:41.547077Z"
    }
   },
   "outputs": [
    {
     "data": {
      "text/plain": [
       "KMeans(algorithm='auto', copy_x=True, init='k-means++', max_iter=300,\n",
       "    n_clusters=19, n_init=10, n_jobs=None, precompute_distances='auto',\n",
       "    random_state=1, tol=0.0001, verbose=0)"
      ]
     },
     "execution_count": 50,
     "metadata": {},
     "output_type": "execute_result"
    }
   ],
   "source": [
    "# Fit a KMeans() model with appropriate number of clusters\n",
    "kmeans = KMeans(n_clusters=19, random_state=1)\n",
    "kmeans.fit(count_vectors)"
   ]
  },
  {
   "cell_type": "markdown",
   "metadata": {},
   "source": [
    "Now I have a `KMeans()` model fit to my sample. The next step is to generate Word2Vec embeddings to use for looking up the top words associated with each cluster. Although my clusters are based on only 3,000 reviews, I'll calculate the embeddings using the full dataset to bring in more contextual semantic meaning."
   ]
  },
  {
   "cell_type": "code",
   "execution_count": 42,
   "metadata": {
    "ExecuteTime": {
     "end_time": "2020-02-13T23:33:33.030512Z",
     "start_time": "2020-02-13T23:33:28.477931Z"
    }
   },
   "outputs": [],
   "source": [
    "# Get all training text as a list of 'sentences' (reviews)\n",
    "from gensim.models import Word2Vec\n",
    "from keras.preprocessing.text import text_to_word_sequence\n",
    "\n",
    "all_text = []\n",
    "for row in data.index:\n",
    "    all_text.append(data[row])"
   ]
  },
  {
   "cell_type": "code",
   "execution_count": 43,
   "metadata": {
    "ExecuteTime": {
     "end_time": "2020-02-13T23:33:52.542273Z",
     "start_time": "2020-02-13T23:33:35.712548Z"
    },
    "scrolled": false
   },
   "outputs": [],
   "source": [
    "# Tokenize the training reviews\n",
    "tokens = []\n",
    "for sentence in all_text:\n",
    "    sentence_tok = text_to_word_sequence(sentence, \n",
    "                                         filters='!\"#$%&()*+,-./:;<=>?@[\\\\]^_`{|}~\\t\\n', \n",
    "                                         lower=True, split=' ')\n",
    "    tokens.append(sentence_tok)\n",
    "    \n",
    "tokens = [word for word in tokens if word not in stop_list]"
   ]
  },
  {
   "cell_type": "code",
   "execution_count": 44,
   "metadata": {
    "ExecuteTime": {
     "end_time": "2020-02-13T23:36:36.072584Z",
     "start_time": "2020-02-13T23:33:58.872184Z"
    }
   },
   "outputs": [],
   "source": [
    "# Lemmatize the tokens\n",
    "from nltk.stem.wordnet import WordNetLemmatizer\n",
    "\n",
    "lem = WordNetLemmatizer()\n",
    "tokens_lem = []\n",
    "for sentence in tokens:\n",
    "    words_lem = []\n",
    "    for word in sentence:\n",
    "        words_lem.append(lem.lemmatize(word))\n",
    "    tokens_lem.append(words_lem)"
   ]
  },
  {
   "cell_type": "code",
   "execution_count": 45,
   "metadata": {
    "ExecuteTime": {
     "end_time": "2020-02-13T23:48:25.099939Z",
     "start_time": "2020-02-13T23:37:48.133195Z"
    }
   },
   "outputs": [
    {
     "data": {
      "text/plain": [
       "(46921353, 63911896)"
      ]
     },
     "execution_count": 45,
     "metadata": {},
     "output_type": "execute_result"
    }
   ],
   "source": [
    "# Calculate Word2Vec vectors\n",
    "model = Word2Vec(tokens_lem, size=1000, window=5, min_count=5, workers=4)\n",
    "model.train(tokens_lem, total_examples=model.corpus_count, epochs=2)"
   ]
  },
  {
   "cell_type": "code",
   "execution_count": 46,
   "metadata": {
    "ExecuteTime": {
     "end_time": "2020-02-13T23:52:23.056028Z",
     "start_time": "2020-02-13T23:52:22.602451Z"
    }
   },
   "outputs": [
    {
     "data": {
      "text/plain": [
       "[('coffe', 0.7727224826812744),\n",
       " ('cofee', 0.7244763374328613),\n",
       " ('expresso', 0.6837023496627808),\n",
       " ('espresso', 0.6758559346199036),\n",
       " (\"coffee's\", 0.6558007597923279),\n",
       " ('cappuccino', 0.6241289377212524),\n",
       " ('cappucino', 0.6098257303237915),\n",
       " ('columbian', 0.6003385782241821),\n",
       " ('folgers', 0.6003138422966003),\n",
       " ('tea', 0.591554582118988)]"
      ]
     },
     "execution_count": 46,
     "metadata": {},
     "output_type": "execute_result"
    }
   ],
   "source": [
    "# Access model weights\n",
    "w2v_weights = model.wv\n",
    "\n",
    "# Preview one vector\n",
    "w2v_weights.most_similar('coffee')"
   ]
  },
  {
   "cell_type": "markdown",
   "metadata": {},
   "source": [
    "I now have Word2Vec vectors for each of the words in my sample. The example above shows what words are most closely associated with \"coffee\" in the reviews. \"Sauce\" is a weird one, but the rest seem reasonable.\n",
    "\n",
    "Now I'll see what words are most closely associated with each of the clusters generated by my `KMeans()` model above."
   ]
  },
  {
   "cell_type": "code",
   "execution_count": 52,
   "metadata": {
    "ExecuteTime": {
     "end_time": "2020-02-14T00:08:08.519858Z",
     "start_time": "2020-02-14T00:08:08.303694Z"
    }
   },
   "outputs": [
    {
     "name": "stdout",
     "output_type": "stream",
     "text": [
      "Cluster 0\n",
      "['bionature', 'abused', 'scramble', 'inquires', '6mos', 'apetit', 'marvelously', 'robb', 'jigglers', 'silken']\n",
      "-----\n",
      "Cluster 1\n",
      "['polished', 'afterglow', 'description', \"'meal'\", 'polishing', 'ripped', 'seize', 'warming', 'joghurt', 'lopped']\n",
      "-----\n",
      "Cluster 2\n",
      "['etcetera', 'trow', 'laksa', 'conquer', 'posh', 'allows', 'requires', 'canot', 'palatability', 'enables']\n",
      "-----\n",
      "Cluster 3\n",
      "['grapenuts', 'prying', 'hemp', 'tylose', 'tofu', 'login', 'fervor', 'plunking', 'ruse', 'chreese']\n",
      "-----\n",
      "Cluster 4\n",
      "['swiss', 'fervor', 'topping', 'preparation', 'direction', 'panini', 'approximation', 'wolfgang', 'mascarpone', 'parisienne']\n",
      "-----\n",
      "Cluster 5\n",
      "['gomasio', 'sanitized', 'takin', 'favorable', 'greate', 'shortcoming', 'serious', 'rebecca', 'second', \"cream'\"]\n",
      "-----\n",
      "Cluster 6\n",
      "['description', 'afterglow', 'cals', \"'meal'\", 'way', 'chart', 'kilogram', 'hemp', 'polished', 'polishing']\n",
      "-----\n",
      "Cluster 7\n",
      "['237', 'depiction', 'wiil', 'afer', 'prior', 'thereby', 'began', 'jalfrezi', \"willingham's\", 'bal']\n",
      "-----\n",
      "Cluster 8\n",
      "['wastebasket', 'sweeney', 'tripped', 'cupful', 'bug', 'kuzu', 'reccommend', 'nearly', 'swatting', 'hornet']\n",
      "-----\n",
      "Cluster 9\n",
      "['packaging', 'fervor', \"site's\", 'ruse', 'billing', 'confusion', 'rancidity', 'gomasio', 'squashed', 'busted']\n",
      "-----\n",
      "Cluster 10\n",
      "['biscuity', 'usrda', 'cals', 'cappuchinos', 'mgo', 'overbearing', 'superb', 'described', 'remarkable', 'bestselling']\n",
      "-----\n",
      "Cluster 11\n",
      "['unchanged', 'ursi', 'bestselling', 'adaptogenic', 'energizing', 'substitue', 'shown', 'usefull', 'pralus', 'acesulfame']\n",
      "-----\n",
      "Cluster 12\n",
      "['bananna', 'unspecified', 'tofutti', 'gelato', 'referencing', 'erin', 'shirataki', 'tofu', 'glowing', 'knox']\n",
      "-----\n",
      "Cluster 13\n",
      "['aquire', 'plan', 'absinthe', \"deli's\", 'filipino', 'mailorder', 'nector', \"'fake'\", 'preffered', \"burrito's\"]\n",
      "-----\n",
      "Cluster 14\n",
      "['tthe', 'fall', 'density', 'farther', 'squeaky', 'yourself', 'waffie', 'crispiness', 'sustainable', 'shredding']\n",
      "-----\n",
      "Cluster 15\n",
      "['snacked', 'sambazon', 'rtd', 'greate', 'gorging', 'rebound', 'decided', 'discovered', 'poi', 'lacked']\n",
      "-----\n",
      "Cluster 16\n",
      "['clap', 'spitter', 'ergo', 'nizoral', 'regurgitates', 'huff', 'brightened', 'habitually', 'broadly', 'reacting']\n",
      "-----\n",
      "Cluster 17\n",
      "['handedly', 'confusion', 'gomasio', 'insulation', 'rancidity', '228', 'illustrated', 'tearing', 'fuzzies', 'breakage']\n",
      "-----\n",
      "Cluster 18\n",
      "['fall', 'squeaky', 'density', 'vastly', 'farther', 'tthe', 'uniformity', 'crispiness', 'sandy', 'cutout']\n",
      "-----\n"
     ]
    }
   ],
   "source": [
    "# View top 10 words for each cluster\n",
    "for cluster in range(19):\n",
    "    words = w2v_weights.similar_by_vector(kmeans.cluster_centers_[cluster], \n",
    "                                          topn=10, restrict_vocab=None)\n",
    "    print('Cluster {}'.format(cluster))\n",
    "    print([x[0] for x in words])\n",
    "    print('-----')"
   ]
  },
  {
   "cell_type": "markdown",
   "metadata": {},
   "source": [
    "These topics don't seem very useful at all! The top words contain lots of rare words and misspellings, and they're just not informative about the general content of the reviews like the NMF topics were. It looks like I would be much better off sticking to algorithms developed specifically for topic modeling instead of using more generic ones."
   ]
  },
  {
   "cell_type": "markdown",
   "metadata": {},
   "source": [
    "# Summary"
   ]
  },
  {
   "cell_type": "markdown",
   "metadata": {},
   "source": [
    "I tried two different methods for modeling topics in my dataset of Amazon food reviews: Non-negative Matrix Factorization using TF-IDF vectors, and k-means clustering using count vectors. The topics generated by NMF generally made sense given the small number of reviews I've read, while the k-means clusters seem like they would be hard to put to any practical use. The topics generated by NMF could be incorporated into the dataset as an additional feature to use when trying to predict whether a review is \"helpful\" to readers. "
   ]
  }
 ],
 "metadata": {
  "kernelspec": {
   "display_name": "learn-env",
   "language": "python",
   "name": "learn-env"
  },
  "language_info": {
   "codemirror_mode": {
    "name": "ipython",
    "version": 3
   },
   "file_extension": ".py",
   "mimetype": "text/x-python",
   "name": "python",
   "nbconvert_exporter": "python",
   "pygments_lexer": "ipython3",
   "version": "3.6.6"
  },
  "toc": {
   "base_numbering": 1,
   "nav_menu": {},
   "number_sections": true,
   "sideBar": true,
   "skip_h1_title": false,
   "title_cell": "Table of Contents",
   "title_sidebar": "Contents",
   "toc_cell": false,
   "toc_position": {},
   "toc_section_display": true,
   "toc_window_display": true
  }
 },
 "nbformat": 4,
 "nbformat_minor": 2
}
